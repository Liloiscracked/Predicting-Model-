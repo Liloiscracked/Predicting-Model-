{
 "cells": [
  {
   "cell_type": "markdown",
   "source": [
    "<h1>Data preparation<h1>"
   ],
   "metadata": {
    "collapsed": false
   },
   "id": "c0b79e87427a7226"
  },
  {
   "cell_type": "code",
   "execution_count": null,
   "outputs": [],
   "source": [
    "import pandas as pd\n",
    "import numpy as np\n",
    "\n",
    "# Load dataset\n",
    "data = pd.read_csv('path_to_your_dataset.csv')\n",
    "\n",
    "# Assume 'Cluster' column exists after clustering the data\n",
    "data['Cluster'] = ...  # Add your clustering logic or load the pre-computed clusters\n",
    "\n",
    "# Rename columns for convenience\n",
    "data = data.rename(columns={\n",
    "    'RSRP (d Bm)-Dominant RSRP (d Bm)': 'RSRP_dBm',\n",
    "    'Serving RS Info-Serving RSRP (d Bm)': 'Serving_RSRP_dBm',\n",
    "    'Serving RS Info-Serving RS RSRQ (d B)': 'Serving_RSRQ_dB',\n",
    "    'Serving RS Info-Serving RS SINR (d B)': 'Serving_SINR_dB'\n",
    "})\n",
    "\n",
    "# Drop rows with missing target values\n",
    "data = data.dropna(subset=['RSRP_dBm', 'Serving_RSRP_dBm', 'Serving_RSRQ_dB', 'Serving_SINR_dB'])\n",
    "data = data.fillna(0)  # Fill other missing values with 0 (or use other strategies)\n",
    "\n",
    "# Define features and target variables\n",
    "features = [\n",
    "    'Latitude', 'Longitude', 'Serving Channel Info-DL EARFCN',\n",
    "    'Serving Cell Info-Serving PCI', 'Serving RS Info-NR Best SS-RSRP',\n",
    "    'Serving RS Info-NR Best SS-SINR', 'Data Throughput-RLC DL Throughput (kbps)',\n",
    "    'Data Throughput-NR PDCP downlink throughput (Mbps)',\n",
    "    '5G NR-NR Best SS-RSRP', '5G NR-NR PDCP downlink throughput (Mbps)',\n",
    "    '5G NR-NR Best SS-SINR'\n",
    "]\n",
    "\n",
    "target_rsrp = 'RSRP_dBm'\n",
    "target_rsrq = 'Serving_RSRQ_dB'\n",
    "target_sinr = 'Serving_SINR_dB'\n",
    "\n",
    "X = data[features]\n",
    "y_rsrp = data[target_rsrp]\n",
    "y_rsrq = data[target_rsrq]\n",
    "y_sinr = data[target_sinr]\n",
    "clusters = data['Cluster']\n"
   ],
   "metadata": {
    "collapsed": false
   },
   "id": "16d71c1cad80bd39"
  },
  {
   "cell_type": "markdown",
   "source": [
    "<h1>Graph construction<h1>"
   ],
   "metadata": {
    "collapsed": false
   },
   "id": "c298e8cf0b42cdd1"
  },
  {
   "cell_type": "code",
   "execution_count": null,
   "outputs": [],
   "source": [
    "import torch\n",
    "from torch_geometric.data import Data\n",
    "from torch_geometric.nn import GCNConv\n",
    "from sklearn.preprocessing import StandardScaler\n",
    "\n",
    "# Standardize the features\n",
    "scaler = StandardScaler()\n",
    "X_scaled = scaler.fit_transform(X)\n",
    "\n",
    "# Create edge index based on clusters\n",
    "edges = []\n",
    "for cluster in data['Cluster'].unique():\n",
    "    cluster_data = data[data['Cluster'] == cluster]\n",
    "    indices = cluster_data.index.tolist()\n",
    "    for i in indices:\n",
    "        for j in indices:\n",
    "            if i != j:\n",
    "                edges.append([i, j])\n",
    "\n",
    "edge_index = torch.tensor(edges, dtype=torch.long).t().contiguous()\n",
    "\n",
    "# Create node features and target tensors\n",
    "x = torch.tensor(X_scaled, dtype=torch.float)\n",
    "y_rsrp = torch.tensor(y_rsrp.values, dtype=torch.float)\n",
    "y_rsrq = torch.tensor(y_rsrq.values, dtype=torch.float)\n",
    "y_sinr = torch.tensor(y_sinr.values, dtype=torch.float)\n",
    "\n",
    "# Create PyTorch Geometric Data object\n",
    "data_rsrp = Data(x=x, edge_index=edge_index, y=y_rsrp)\n",
    "data_rsrq = Data(x=x, edge_index=edge_index, y=y_rsrq)\n",
    "data_sinr = Data(x=x, edge_index=edge_index, y=y_sinr)\n"
   ],
   "metadata": {
    "collapsed": false
   },
   "id": "898f2336e49e8286"
  },
  {
   "cell_type": "markdown",
   "source": [
    "<h1>GNN model training<h1>"
   ],
   "metadata": {
    "collapsed": false
   },
   "id": "5801fba107b8d892"
  },
  {
   "cell_type": "code",
   "execution_count": null,
   "outputs": [],
   "source": [
    "import torch.nn.functional as F\n",
    "from torch_geometric.loader import DataLoader\n",
    "from torch_geometric.nn import GCNConv, global_mean_pool\n",
    "\n",
    "class GNN(torch.nn.Module):\n",
    "    def __init__(self, input_dim, hidden_dim, output_dim):\n",
    "        super(GNN, self).__init__()\n",
    "        self.conv1 = GCNConv(input_dim, hidden_dim)\n",
    "        self.conv2 = GCNConv(hidden_dim, hidden_dim)\n",
    "        self.fc = torch.nn.Linear(hidden_dim, output_dim)\n",
    "\n",
    "    def forward(self, data):\n",
    "        x, edge_index = data.x, data.edge_index\n",
    "        x = F.relu(self.conv1(x, edge_index))\n",
    "        x = self.conv2(x, edge_index)\n",
    "        x = global_mean_pool(x, data.batch)\n",
    "        x = self.fc(x)\n",
    "        return x\n",
    "\n",
    "# Initialize GNN models\n",
    "gnn_rsrp = GNN(input_dim=X_scaled.shape[1], hidden_dim=64, output_dim=1)\n",
    "gnn_rsrq = GNN(input_dim=X_scaled.shape[1], hidden_dim=64, output_dim=1)\n",
    "gnn_sinr = GNN(input_dim=X_scaled.shape[1], hidden_dim=64, output_dim=1)\n",
    "\n",
    "# Train the GNN models\n",
    "def train_gnn(model, data, epochs=100, lr=0.01):\n",
    "    optimizer = torch.optim.Adam(model.parameters(), lr=lr)\n",
    "    model.train()\n",
    "    for epoch in range(epochs):\n",
    "        optimizer.zero_grad()\n",
    "        out = model(data)\n",
    "        loss = F.mse_loss(out, data.y)\n",
    "        loss.backward()\n",
    "        optimizer.step()\n",
    "        if (epoch+1) % 10 == 0:\n",
    "            print(f'Epoch {epoch+1}/{epochs}, Loss: {loss.item()}')\n",
    "\n",
    "# Train the models\n",
    "train_gnn(gnn_rsrp, data_rsrp)\n",
    "train_gnn(gnn_rsrq, data_rsrq)\n",
    "train_gnn(gnn_sinr, data_sinr)\n"
   ],
   "metadata": {
    "collapsed": false
   },
   "id": "b316f38ddf3d62f5"
  },
  {
   "cell_type": "markdown",
   "source": [
    "<h1>Identify Poor Coverage Areas<h1>"
   ],
   "metadata": {
    "collapsed": false
   },
   "id": "3b8ae3232e09694a"
  },
  {
   "cell_type": "code",
   "execution_count": null,
   "outputs": [],
   "source": [
    "gnn_rsrp.eval()\n",
    "gnn_rsrq.eval()\n",
    "gnn_sinr.eval()\n",
    "\n",
    "rsrp_pred = gnn_rsrp(data_rsrp).detach().numpy()\n",
    "rsrq_pred = gnn_rsrq(data_rsrq).detach().numpy()\n",
    "sinr_pred = gnn_sinr(data_sinr).detach().numpy()\n",
    "\n",
    "# Define thresholds for poor coverage\n",
    "rsrp_threshold = -100  # Example threshold for RSRP\n",
    "rsrq_threshold = -12  # Example threshold for RSRQ\n",
    "sinr_threshold = 5  # Example threshold for SINR\n",
    "\n",
    "poor_coverage = (rsrp_pred < rsrp_threshold) | (rsrq_pred < rsrq_threshold) | (sinr_pred < sinr_threshold)\n",
    "\n",
    "# Combine results into a DataFrame for analysis\n",
    "results = pd.DataFrame({\n",
    "    'Latitude': X['Latitude'],\n",
    "    'Longitude': X['Longitude'],\n",
    "    'RSRP_Pred': rsrp_pred.flatten(),\n",
    "    'RSRQ_Pred': rsrq_pred.flatten(),\n",
    "    'SINR_Pred': sinr_pred.flatten(),\n",
    "    'Poor_Coverage': poor_coverage.flatten()\n",
    "})\n",
    "\n",
    "# Filter poor coverage areas\n",
    "poor_coverage_areas = results[results['Poor_Coverage']]\n",
    "print(poor_coverage_areas)\n"
   ],
   "metadata": {
    "collapsed": false
   },
   "id": "5ae33cdce172049f"
  },
  {
   "cell_type": "markdown",
   "source": [
    "<h1>Optimal Cell Placement<h1>"
   ],
   "metadata": {
    "collapsed": false
   },
   "id": "65d69a3af42cb7cb"
  },
  {
   "cell_type": "code",
   "execution_count": null,
   "outputs": [],
   "source": [
    "from scipy.spatial import distance_matrix\n",
    "\n",
    "# Calculate the centroid of poor coverage areas\n",
    "centroid = poor_coverage_areas[['Latitude', 'Longitude']].mean().values\n",
    "\n",
    "# Calculate distances from the centroid to all poor coverage areas\n",
    "distances = distance_matrix([centroid], poor_coverage_areas[['Latitude', 'Longitude']].values)\n",
    "poor_coverage_areas['Distance_to_Centroid'] = distances.flatten()\n",
    "\n",
    "# Suggest optimal location for new cell tower (nearest to centroid)\n",
    "optimal_location = poor_coverage_areas.loc[poor_coverage_areas['Distance_to_Centroid'].idxmin()]\n",
    "print('Optimal Cell Tower Location:')\n",
    "print(optimal_location[['Latitude', 'Longitude']])\n"
   ],
   "metadata": {
    "collapsed": false
   },
   "id": "e0ba81bb9ebc402e"
  },
  {
   "cell_type": "markdown",
   "source": [
    "<h1>Visualization<h1>"
   ],
   "metadata": {
    "collapsed": false
   },
   "id": "a1c495d0d2118011"
  },
  {
   "cell_type": "code",
   "execution_count": null,
   "outputs": [],
   "source": [
    "import folium\n",
    "\n",
    "# Create a map centered at the centroid\n",
    "m = folium.Map(location=centroid, zoom_start=13)\n",
    "\n",
    "# Add poor coverage areas to the map\n",
    "for _, row in poor_coverage_areas.iterrows():\n",
    "    folium.CircleMarker(location=[row['Latitude'], row['Longitude']],\n",
    "                        radius=5, color='red', fill=True).add_to(m)\n",
    "\n",
    "# Add optimal cell tower location to the map\n",
    "folium.Marker(location=optimal_location[['Latitude', 'Longitude']],\n",
    "              popup='Optimal Cell Tower Location', icon=folium.Icon(color='blue')).add_to(m)\n",
    "\n",
    "# Save and display the map\n",
    "m.save('network_coverage_map.html')\n",
    "m\n"
   ],
   "metadata": {
    "collapsed": false
   },
   "id": "1e50fc389bfb014d"
  }
 ],
 "metadata": {
  "kernelspec": {
   "display_name": "Python 3",
   "language": "python",
   "name": "python3"
  },
  "language_info": {
   "codemirror_mode": {
    "name": "ipython",
    "version": 2
   },
   "file_extension": ".py",
   "mimetype": "text/x-python",
   "name": "python",
   "nbconvert_exporter": "python",
   "pygments_lexer": "ipython2",
   "version": "2.7.6"
  }
 },
 "nbformat": 4,
 "nbformat_minor": 5
}
