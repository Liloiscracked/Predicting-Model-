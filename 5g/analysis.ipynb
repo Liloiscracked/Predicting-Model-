{
 "cells": [
  {
   "cell_type": "code",
   "execution_count": 3,
   "id": "initial_id",
   "metadata": {
    "collapsed": true,
    "pycharm": {
     "name": "#%%\n"
    },
    "ExecuteTime": {
     "end_time": "2024-07-16T11:46:07.207733Z",
     "start_time": "2024-07-16T11:46:07.194067Z"
    }
   },
   "outputs": [],
   "source": [
    "import pandas as pd\n",
    "import matplotlib.pyplot as plt\n",
    "import sqlite3\n"
   ]
  },
  {
   "cell_type": "code",
   "execution_count": 4,
   "outputs": [
    {
     "data": {
      "text/plain": "   Id  Phone           Bin Time Stamp   Latitude  Longitude  \\\n0   1      1  06/18/2024 14:43:34.000  21.357107  39.830204   \n1   2      1  06/18/2024 14:43:36.000  21.357109  39.830204   \n2   3      1  06/18/2024 14:43:38.000  21.357109  39.830204   \n3   4      1  06/18/2024 14:43:40.000  21.357109  39.830204   \n4   5      1  06/18/2024 14:43:42.000  21.357109  39.830204   \n\n      Nemo Data Connection Attempt - HTTP     Nemo Data Connection Success  \\\n0  Nemo Data Connection Attempt - HTTP- 1  Nemo Data Connection Success- 1   \n1  Nemo Data Connection Attempt - HTTP- 1  Nemo Data Connection Success- 1   \n2  Nemo Data Connection Attempt - HTTP- 1  Nemo Data Connection Success- 1   \n3  Nemo Data Connection Attempt - HTTP- 1  Nemo Data Connection Success- 1   \n4  Nemo Data Connection Attempt - HTTP- 1                                0   \n\n  Nemo Data Connection Disconnect Nemo Data Transfer Fail - HTTP  \\\n0                               0                              0   \n1                               0                              0   \n2                               0                              0   \n3                               0                              0   \n4                               0                              0   \n\n  Nemo Data Connection Dropped  ...  \\\n0                            0  ...   \n1                            0  ...   \n2                            0  ...   \n3                            0  ...   \n4                            0  ...   \n\n   Audio Quality.POLQA Downlink MOS-POLQA SWB  \\\n0                                        None   \n1                                        None   \n2                                        None   \n3                                        None   \n4                                        None   \n\n   Data Throughput-Physical DSCH Throughput (kbps)  \\\n0                                             1.39   \n1                                         13552.24   \n2                                         71423.05   \n3                                         67825.94   \n4                                         62527.23   \n\n   PCell-Strongest Serving PCell Avg DL PRB  5G NR-NR Best SS-RSRP  \\\n0                                      2.67                    NaN   \n1                                     17.25                 -78.50   \n2                                     19.75                 -79.80   \n3                                     22.25                 -80.05   \n4                                     26.00                 -79.95   \n\n  5G NR-NR PDCP downlink throughput (Mbps)  5G NR-NR Best SS-SINR  \\\n0                                      NaN                    NaN   \n1                                65.045551                  19.45   \n2                               316.771094                  16.38   \n3                               355.659812                  17.10   \n4                               354.720813                  20.08   \n\n   NR-ARFCN-SCG PS Cell  NR Best Serving PCI for selected set-SCG PS Cell  \\\n0                   NaN                                               NaN   \n1              643296.0                                             820.0   \n2              643296.0                                             820.0   \n3              643296.0                                             820.0   \n4              643296.0                                             820.0   \n\n   Common Metrics-Band Info  Common Metrics-Protocol  \n0     LTE IMT 2100 - Band 1                      LTE  \n1     LTE IMT 2100 - Band 1                    EN-DC  \n2     LTE IMT 2100 - Band 1                    EN-DC  \n3     LTE IMT 2100 - Band 1                    EN-DC  \n4     LTE IMT 2100 - Band 1                    EN-DC  \n\n[5 rows x 36 columns]",
      "text/html": "<div>\n<style scoped>\n    .dataframe tbody tr th:only-of-type {\n        vertical-align: middle;\n    }\n\n    .dataframe tbody tr th {\n        vertical-align: top;\n    }\n\n    .dataframe thead th {\n        text-align: right;\n    }\n</style>\n<table border=\"1\" class=\"dataframe\">\n  <thead>\n    <tr style=\"text-align: right;\">\n      <th></th>\n      <th>Id</th>\n      <th>Phone</th>\n      <th>Bin Time Stamp</th>\n      <th>Latitude</th>\n      <th>Longitude</th>\n      <th>Nemo Data Connection Attempt - HTTP</th>\n      <th>Nemo Data Connection Success</th>\n      <th>Nemo Data Connection Disconnect</th>\n      <th>Nemo Data Transfer Fail - HTTP</th>\n      <th>Nemo Data Connection Dropped</th>\n      <th>...</th>\n      <th>Audio Quality.POLQA Downlink MOS-POLQA SWB</th>\n      <th>Data Throughput-Physical DSCH Throughput (kbps)</th>\n      <th>PCell-Strongest Serving PCell Avg DL PRB</th>\n      <th>5G NR-NR Best SS-RSRP</th>\n      <th>5G NR-NR PDCP downlink throughput (Mbps)</th>\n      <th>5G NR-NR Best SS-SINR</th>\n      <th>NR-ARFCN-SCG PS Cell</th>\n      <th>NR Best Serving PCI for selected set-SCG PS Cell</th>\n      <th>Common Metrics-Band Info</th>\n      <th>Common Metrics-Protocol</th>\n    </tr>\n  </thead>\n  <tbody>\n    <tr>\n      <th>0</th>\n      <td>1</td>\n      <td>1</td>\n      <td>06/18/2024 14:43:34.000</td>\n      <td>21.357107</td>\n      <td>39.830204</td>\n      <td>Nemo Data Connection Attempt - HTTP- 1</td>\n      <td>Nemo Data Connection Success- 1</td>\n      <td>0</td>\n      <td>0</td>\n      <td>0</td>\n      <td>...</td>\n      <td>None</td>\n      <td>1.39</td>\n      <td>2.67</td>\n      <td>NaN</td>\n      <td>NaN</td>\n      <td>NaN</td>\n      <td>NaN</td>\n      <td>NaN</td>\n      <td>LTE IMT 2100 - Band 1</td>\n      <td>LTE</td>\n    </tr>\n    <tr>\n      <th>1</th>\n      <td>2</td>\n      <td>1</td>\n      <td>06/18/2024 14:43:36.000</td>\n      <td>21.357109</td>\n      <td>39.830204</td>\n      <td>Nemo Data Connection Attempt - HTTP- 1</td>\n      <td>Nemo Data Connection Success- 1</td>\n      <td>0</td>\n      <td>0</td>\n      <td>0</td>\n      <td>...</td>\n      <td>None</td>\n      <td>13552.24</td>\n      <td>17.25</td>\n      <td>-78.50</td>\n      <td>65.045551</td>\n      <td>19.45</td>\n      <td>643296.0</td>\n      <td>820.0</td>\n      <td>LTE IMT 2100 - Band 1</td>\n      <td>EN-DC</td>\n    </tr>\n    <tr>\n      <th>2</th>\n      <td>3</td>\n      <td>1</td>\n      <td>06/18/2024 14:43:38.000</td>\n      <td>21.357109</td>\n      <td>39.830204</td>\n      <td>Nemo Data Connection Attempt - HTTP- 1</td>\n      <td>Nemo Data Connection Success- 1</td>\n      <td>0</td>\n      <td>0</td>\n      <td>0</td>\n      <td>...</td>\n      <td>None</td>\n      <td>71423.05</td>\n      <td>19.75</td>\n      <td>-79.80</td>\n      <td>316.771094</td>\n      <td>16.38</td>\n      <td>643296.0</td>\n      <td>820.0</td>\n      <td>LTE IMT 2100 - Band 1</td>\n      <td>EN-DC</td>\n    </tr>\n    <tr>\n      <th>3</th>\n      <td>4</td>\n      <td>1</td>\n      <td>06/18/2024 14:43:40.000</td>\n      <td>21.357109</td>\n      <td>39.830204</td>\n      <td>Nemo Data Connection Attempt - HTTP- 1</td>\n      <td>Nemo Data Connection Success- 1</td>\n      <td>0</td>\n      <td>0</td>\n      <td>0</td>\n      <td>...</td>\n      <td>None</td>\n      <td>67825.94</td>\n      <td>22.25</td>\n      <td>-80.05</td>\n      <td>355.659812</td>\n      <td>17.10</td>\n      <td>643296.0</td>\n      <td>820.0</td>\n      <td>LTE IMT 2100 - Band 1</td>\n      <td>EN-DC</td>\n    </tr>\n    <tr>\n      <th>4</th>\n      <td>5</td>\n      <td>1</td>\n      <td>06/18/2024 14:43:42.000</td>\n      <td>21.357109</td>\n      <td>39.830204</td>\n      <td>Nemo Data Connection Attempt - HTTP- 1</td>\n      <td>0</td>\n      <td>0</td>\n      <td>0</td>\n      <td>0</td>\n      <td>...</td>\n      <td>None</td>\n      <td>62527.23</td>\n      <td>26.00</td>\n      <td>-79.95</td>\n      <td>354.720813</td>\n      <td>20.08</td>\n      <td>643296.0</td>\n      <td>820.0</td>\n      <td>LTE IMT 2100 - Band 1</td>\n      <td>EN-DC</td>\n    </tr>\n  </tbody>\n</table>\n<p>5 rows × 36 columns</p>\n</div>"
     },
     "metadata": {},
     "output_type": "display_data"
    }
   ],
   "source": [
    "con = sqlite3.connect('../nokia.db')\n",
    "df = pd.read_sql_query('SELECT * FROM Makkah_5g', con)\n",
    "con.close()\n",
    "display(df.head())"
   ],
   "metadata": {
    "collapsed": false,
    "pycharm": {
     "name": "#%%\n"
    },
    "ExecuteTime": {
     "end_time": "2024-07-16T11:46:09.533980Z",
     "start_time": "2024-07-16T11:46:08.866467Z"
    }
   },
   "id": "9b32daef60338459"
  },
  {
   "cell_type": "code",
   "execution_count": 6,
   "outputs": [
    {
     "name": "stdout",
     "output_type": "stream",
     "text": [
      "Index(['Id', 'Phone', 'Bin Time Stamp', 'Latitude', 'Longitude',\n",
      "       'Nemo Data Connection Attempt - HTTP', 'Nemo Data Connection Success',\n",
      "       'Nemo Data Connection Disconnect', 'Nemo Data Transfer Fail - HTTP',\n",
      "       'Nemo Data Connection Dropped',\n",
      "       'Data Throughput-RLC DL Throughput (kbps)',\n",
      "       'Serving Channel Info-DL EARFCN', 'Serving Cell Info-Serving PCI',\n",
      "       'RSRP (d Bm)-Dominant RSRP (d Bm) ', 'Common-Protocol',\n",
      "       'Serving RS Info-NR Best SS-RSRP', 'Serving RS Info-NR Best SS-SINR',\n",
      "       'Data Throughput-NR PDCP downlink throughput (Mbps)',\n",
      "       'NR Best Serving PCI for selected set-199', 'NR-ARFCN-199',\n",
      "       'NR PDSCH MCS index for CW0-199', 'NR PDSCH modulation for CW0-199',\n",
      "       'GSM Cell Identity-GSM Serving Cell Id',\n",
      "       'Serving RS Info-Serving RSRP (d Bm)',\n",
      "       'Serving RS Info-Serving RS CINR (d B)',\n",
      "       'Serving RS Info-Serving RSRQ (d B)',\n",
      "       'Audio Quality.POLQA Downlink MOS-POLQA SWB',\n",
      "       'Data Throughput-Physical DSCH Throughput (kbps)',\n",
      "       'PCell-Strongest Serving PCell Avg DL PRB', '5G NR-NR Best SS-RSRP',\n",
      "       '5G NR-NR PDCP downlink throughput (Mbps)', '5G NR-NR Best SS-SINR',\n",
      "       'NR-ARFCN-SCG PS Cell',\n",
      "       'NR Best Serving PCI for selected set-SCG PS Cell',\n",
      "       'Common Metrics-Band Info', 'Common Metrics-Protocol'],\n",
      "      dtype='object')\n"
     ]
    }
   ],
   "source": [
    "#visualize columns\n",
    "print(df.columns)"
   ],
   "metadata": {
    "collapsed": false,
    "pycharm": {
     "name": "#%%\n"
    },
    "ExecuteTime": {
     "end_time": "2024-07-16T11:47:37.983519Z",
     "start_time": "2024-07-16T11:47:37.976847Z"
    }
   },
   "id": "3c8273b117ef786c"
  },
  {
   "cell_type": "code",
   "execution_count": 5,
   "outputs": [
    {
     "name": "stdout",
     "output_type": "stream",
     "text": [
      "Id                                                        0\n",
      "Phone                                                     0\n",
      "Bin Time Stamp                                            0\n",
      "Latitude                                                  0\n",
      "Longitude                                                 0\n",
      "Nemo Data Connection Attempt - HTTP                       0\n",
      "Nemo Data Connection Success                              0\n",
      "Nemo Data Connection Disconnect                           0\n",
      "Nemo Data Transfer Fail - HTTP                            0\n",
      "Nemo Data Connection Dropped                              0\n",
      "Data Throughput-RLC DL Throughput (kbps)                 47\n",
      "Serving Channel Info-DL EARFCN                           23\n",
      "Serving Cell Info-Serving PCI                            23\n",
      "RSRP (d Bm)-Dominant RSRP (d Bm)                         25\n",
      "Common-Protocol                                           0\n",
      "Serving RS Info-NR Best SS-RSRP                         715\n",
      "Serving RS Info-NR Best SS-SINR                        5443\n",
      "Data Throughput-NR PDCP downlink throughput (Mbps)      659\n",
      "NR Best Serving PCI for selected set-199                715\n",
      "NR-ARFCN-199                                            715\n",
      "NR PDSCH MCS index for CW0-199                          830\n",
      "NR PDSCH modulation for CW0-199                         830\n",
      "GSM Cell Identity-GSM Serving Cell Id                 20265\n",
      "Serving RS Info-Serving RSRP (d Bm)                      26\n",
      "Serving RS Info-Serving RS CINR (d B)                    39\n",
      "Serving RS Info-Serving RSRQ (d B)                       30\n",
      "Audio Quality.POLQA Downlink MOS-POLQA SWB            20274\n",
      "Data Throughput-Physical DSCH Throughput (kbps)          90\n",
      "PCell-Strongest Serving PCell Avg DL PRB                126\n",
      "5G NR-NR Best SS-RSRP                                   715\n",
      "5G NR-NR PDCP downlink throughput (Mbps)                659\n",
      "5G NR-NR Best SS-SINR                                  5443\n",
      "NR-ARFCN-SCG PS Cell                                    715\n",
      "NR Best Serving PCI for selected set-SCG PS Cell        715\n",
      "Common Metrics-Band Info                                  0\n",
      "Common Metrics-Protocol                                   0\n",
      "dtype: int64\n"
     ]
    }
   ],
   "source": [
    "# Check for missing values\n",
    "print(df.isnull().sum())"
   ],
   "metadata": {
    "collapsed": false,
    "pycharm": {
     "name": "#%%\n"
    },
    "ExecuteTime": {
     "end_time": "2024-07-16T11:47:33.749301Z",
     "start_time": "2024-07-16T11:47:33.718379Z"
    }
   },
   "id": "715ea7c7acc9ee6b"
  },
  {
   "cell_type": "code",
   "execution_count": 13,
   "outputs": [
    {
     "name": "stdout",
     "output_type": "stream",
     "text": [
      "                  Id    Phone           Bin Time Stamp      Latitude  \\\n",
      "count   20274.000000  20274.0                    20274  20274.000000   \n",
      "unique           NaN      NaN                    20274           NaN   \n",
      "top              NaN      NaN  06/18/2024 14:43:34.000           NaN   \n",
      "freq             NaN      NaN                        1           NaN   \n",
      "mean    10137.500000      1.0                      NaN     21.437088   \n",
      "std      5852.744015      0.0                      NaN      0.053308   \n",
      "min         1.000000      1.0                      NaN     21.326482   \n",
      "25%      5069.250000      1.0                      NaN     21.397290   \n",
      "50%     10137.500000      1.0                      NaN     21.438595   \n",
      "75%     15205.750000      1.0                      NaN     21.468704   \n",
      "max     20274.000000      1.0                      NaN     21.601663   \n",
      "\n",
      "           Longitude Nemo Data Connection Attempt - HTTP  \\\n",
      "count   20274.000000                               20274   \n",
      "unique           NaN                                   4   \n",
      "top              NaN                                   0   \n",
      "freq             NaN                               20192   \n",
      "mean       39.851927                                 NaN   \n",
      "std         0.071913                                 NaN   \n",
      "min        39.698415                                 NaN   \n",
      "25%        39.793919                                 NaN   \n",
      "50%        39.838558                                 NaN   \n",
      "75%        39.901335                                 NaN   \n",
      "max        40.029810                                 NaN   \n",
      "\n",
      "       Nemo Data Connection Success Nemo Data Connection Disconnect  \\\n",
      "count                         20274                           20274   \n",
      "unique                            3                               5   \n",
      "top                               0                               0   \n",
      "freq                          20186                           20252   \n",
      "mean                            NaN                             NaN   \n",
      "std                             NaN                             NaN   \n",
      "min                             NaN                             NaN   \n",
      "25%                             NaN                             NaN   \n",
      "50%                             NaN                             NaN   \n",
      "75%                             NaN                             NaN   \n",
      "max                             NaN                             NaN   \n",
      "\n",
      "        Nemo Data Transfer Fail - HTTP  Nemo Data Connection Dropped  ...  \\\n",
      "count                          20274.0                       20274.0  ...   \n",
      "unique                             6.0                           6.0  ...   \n",
      "top                                0.0                           0.0  ...   \n",
      "freq                           16384.0                       16384.0  ...   \n",
      "mean                               NaN                           NaN  ...   \n",
      "std                                NaN                           NaN  ...   \n",
      "min                                NaN                           NaN  ...   \n",
      "25%                                NaN                           NaN  ...   \n",
      "50%                                NaN                           NaN  ...   \n",
      "75%                                NaN                           NaN  ...   \n",
      "max                                NaN                           NaN  ...   \n",
      "\n",
      "        Audio Quality.POLQA Downlink MOS-POLQA SWB  \\\n",
      "count                                          0.0   \n",
      "unique                                         NaN   \n",
      "top                                            NaN   \n",
      "freq                                           NaN   \n",
      "mean                                           NaN   \n",
      "std                                            NaN   \n",
      "min                                            NaN   \n",
      "25%                                            NaN   \n",
      "50%                                            NaN   \n",
      "75%                                            NaN   \n",
      "max                                            NaN   \n",
      "\n",
      "        Data Throughput-Physical DSCH Throughput (kbps)  \\\n",
      "count                                      20184.000000   \n",
      "unique                                              NaN   \n",
      "top                                                 NaN   \n",
      "freq                                                NaN   \n",
      "mean                                      124239.204799   \n",
      "std                                       104467.404384   \n",
      "min                                            0.000000   \n",
      "25%                                        42833.297500   \n",
      "50%                                        97309.800000   \n",
      "75%                                       183374.002500   \n",
      "max                                       616554.380000   \n",
      "\n",
      "        PCell-Strongest Serving PCell Avg DL PRB  5G NR-NR Best SS-RSRP  \\\n",
      "count                               20148.000000           19559.000000   \n",
      "unique                                       NaN                    NaN   \n",
      "top                                          NaN                    NaN   \n",
      "freq                                         NaN                    NaN   \n",
      "mean                                   17.644964             -86.052587   \n",
      "std                                     6.669730              10.088900   \n",
      "min                                     1.000000            -122.900000   \n",
      "25%                                    13.250000             -92.500000   \n",
      "50%                                    19.250000             -85.300000   \n",
      "75%                                    23.000000             -78.880000   \n",
      "max                                    36.000000             -51.550000   \n",
      "\n",
      "       5G NR-NR PDCP downlink throughput (Mbps)  5G NR-NR Best SS-SINR  \\\n",
      "count                              19615.000000           14831.000000   \n",
      "unique                                      NaN                    NaN   \n",
      "top                                         NaN                    NaN   \n",
      "freq                                        NaN                    NaN   \n",
      "mean                                 397.368347              15.707733   \n",
      "std                                  235.714393               8.548843   \n",
      "min                                    0.000000             -20.800000   \n",
      "25%                                  208.756898               9.750000   \n",
      "50%                                  373.922500              15.350000   \n",
      "75%                                  552.883219              21.900000   \n",
      "max                                 1287.577000              43.200000   \n",
      "\n",
      "        NR-ARFCN-SCG PS Cell  \\\n",
      "count           19559.000000   \n",
      "unique                   NaN   \n",
      "top                      NaN   \n",
      "freq                     NaN   \n",
      "mean           628601.840380   \n",
      "std             67022.225009   \n",
      "min            156510.000000   \n",
      "25%            643296.000000   \n",
      "50%            643296.000000   \n",
      "75%            643296.000000   \n",
      "max            656640.000000   \n",
      "\n",
      "        NR Best Serving PCI for selected set-SCG PS Cell  \\\n",
      "count                                       19559.000000   \n",
      "unique                                               NaN   \n",
      "top                                                  NaN   \n",
      "freq                                                 NaN   \n",
      "mean                                          521.369293   \n",
      "std                                           291.945674   \n",
      "min                                             0.000000   \n",
      "25%                                           275.000000   \n",
      "50%                                           506.000000   \n",
      "75%                                           798.000000   \n",
      "max                                          1007.000000   \n",
      "\n",
      "        Common Metrics-Band Info  Common Metrics-Protocol  \n",
      "count                      20274                    20274  \n",
      "unique                         5                        4  \n",
      "top        LTE DCS 1800 - Band 3                    EN-DC  \n",
      "freq                       13808                    18582  \n",
      "mean                         NaN                      NaN  \n",
      "std                          NaN                      NaN  \n",
      "min                          NaN                      NaN  \n",
      "25%                          NaN                      NaN  \n",
      "50%                          NaN                      NaN  \n",
      "75%                          NaN                      NaN  \n",
      "max                          NaN                      NaN  \n",
      "\n",
      "[11 rows x 36 columns]\n",
      "<class 'pandas.core.frame.DataFrame'>\n",
      "RangeIndex: 20274 entries, 0 to 20273\n",
      "Data columns (total 36 columns):\n",
      " #   Column                                              Non-Null Count  Dtype  \n",
      "---  ------                                              --------------  -----  \n",
      " 0   Id                                                  20274 non-null  int64  \n",
      " 1   Phone                                               20274 non-null  int64  \n",
      " 2   Bin Time Stamp                                      20274 non-null  object \n",
      " 3   Latitude                                            20274 non-null  float64\n",
      " 4   Longitude                                           20274 non-null  float64\n",
      " 5   Nemo Data Connection Attempt - HTTP                 20274 non-null  object \n",
      " 6   Nemo Data Connection Success                        20274 non-null  object \n",
      " 7   Nemo Data Connection Disconnect                     20274 non-null  object \n",
      " 8   Nemo Data Transfer Fail - HTTP                      20274 non-null  object \n",
      " 9   Nemo Data Connection Dropped                        20274 non-null  object \n",
      " 10  Data Throughput-RLC DL Throughput (kbps)            20227 non-null  float64\n",
      " 11  Serving Channel Info-DL EARFCN                      20251 non-null  float64\n",
      " 12  Serving Cell Info-Serving PCI                       20251 non-null  float64\n",
      " 13  RSRP (d Bm)-Dominant RSRP (d Bm)                    20249 non-null  float64\n",
      " 14  Common-Protocol                                     20274 non-null  object \n",
      " 15  Serving RS Info-NR Best SS-RSRP                     19559 non-null  float64\n",
      " 16  Serving RS Info-NR Best SS-SINR                     14831 non-null  float64\n",
      " 17  Data Throughput-NR PDCP downlink throughput (Mbps)  19615 non-null  float64\n",
      " 18  NR Best Serving PCI for selected set-199            19559 non-null  float64\n",
      " 19  NR-ARFCN-199                                        19559 non-null  float64\n",
      " 20  NR PDSCH MCS index for CW0-199                      19444 non-null  float64\n",
      " 21  NR PDSCH modulation for CW0-199                     19444 non-null  object \n",
      " 22  GSM Cell Identity-GSM Serving Cell Id               9 non-null      float64\n",
      " 23  Serving RS Info-Serving RSRP (d Bm)                 20248 non-null  float64\n",
      " 24  Serving RS Info-Serving RS CINR (d B)               20235 non-null  float64\n",
      " 25  Serving RS Info-Serving RSRQ (d B)                  20244 non-null  float64\n",
      " 26  Audio Quality.POLQA Downlink MOS-POLQA SWB          0 non-null      float64\n",
      " 27  Data Throughput-Physical DSCH Throughput (kbps)     20184 non-null  float64\n",
      " 28  PCell-Strongest Serving PCell Avg DL PRB            20148 non-null  float64\n",
      " 29  5G NR-NR Best SS-RSRP                               19559 non-null  float64\n",
      " 30  5G NR-NR PDCP downlink throughput (Mbps)            19615 non-null  float64\n",
      " 31  5G NR-NR Best SS-SINR                               14831 non-null  float64\n",
      " 32  NR-ARFCN-SCG PS Cell                                19559 non-null  float64\n",
      " 33  NR Best Serving PCI for selected set-SCG PS Cell    19559 non-null  float64\n",
      " 34  Common Metrics-Band Info                            20274 non-null  object \n",
      " 35  Common Metrics-Protocol                             20274 non-null  object \n",
      "dtypes: float64(24), int64(2), object(10)\n",
      "memory usage: 5.6+ MB\n",
      "None\n"
     ]
    }
   ],
   "source": [
    "# Get basic statistics\n",
    "print(df.describe(include='all'))\n",
    "print(df.info())"
   ],
   "metadata": {
    "collapsed": false,
    "pycharm": {
     "name": "#%%\n"
    },
    "ExecuteTime": {
     "end_time": "2024-07-09T09:15:02.366242Z",
     "start_time": "2024-07-09T09:15:02.213338Z"
    }
   },
   "id": "e771f44620947584"
  },
  {
   "cell_type": "markdown",
   "source": [
    "Network performance Kpis:"
   ],
   "metadata": {
    "collapsed": false,
    "pycharm": {
     "name": "#%% md\n"
    }
   },
   "id": "fd41678dc5d84258"
  },
  {
   "cell_type": "code",
   "execution_count": 18,
   "outputs": [
    {
     "data": {
      "text/plain": "<Figure size 432x288 with 1 Axes>",
      "image/png": "[encoded data removed]"
     },
     "metadata": {
      "needs_background": "light"
     },
     "output_type": "display_data"
    },
    {
     "data": {
      "text/plain": "<Figure size 432x288 with 1 Axes>",
      "image/png": "[encoded data removed]"
     },
     "metadata": {
      "needs_background": "light"
     },
     "output_type": "display_data"
    }
   ],
   "source": [
    "# Group data by cell ID and calculate average throughput\n",
    "cell_throughput = df.groupby('Serving Cell Info-Serving PCI')['Data Throughput-RLC DL Throughput (kbps)'].mean()\n",
    "# Histogram\n",
    "cell_throughput.plot.hist(bins=20)  # Adjust the number of bins as needed\n",
    "plt.xlabel('Downlink Throughput (kbps)')\n",
    "plt.ylabel('Number of Cells')\n",
    "plt.title('Cell Throughput Distribution')\n",
    "plt.show()\n",
    "\n",
    "# Boxplot\n",
    "cell_throughput.plot(kind='box')\n",
    "plt.xlabel('Id')\n",
    "plt.ylabel('Downlink Throughput (kbps)')\n",
    "plt.title('Cell Throughput Distribution (Boxplot)')\n",
    "plt.show()\n"
   ],
   "metadata": {
    "collapsed": false,
    "pycharm": {
     "name": "#%%\n"
    },
    "ExecuteTime": {
     "end_time": "2024-07-11T11:55:08.377609Z",
     "start_time": "2024-07-11T11:55:07.964258Z"
    }
   },
   "id": "74185b55dc7aed32"
  },
  {
   "cell_type": "code",
   "execution_count": 15,
   "outputs": [
    {
     "data": {
      "text/plain": "<Figure size 864x432 with 1 Axes>",
      "image/png": "[encoded data removed]"
     },
     "metadata": {
      "needs_background": "light"
     },
     "output_type": "display_data"
    }
   ],
   "source": [
    "df[\"Time Window\"] = pd.to_datetime(df[\"Bin Time Stamp\"])\n",
    "\n",
    "# Resample data by hour and calculate average throughput\n",
    "hourly_throughput = df.resample(\"H\", on=\"Time Window\")[\"Data Throughput-RLC DL Throughput (kbps)\"].mean()\n",
    "\n",
    "# Handle potential missing data for specific hours\n",
    "# (Optional, comment out if you don't expect missing data)\n",
    "hourly_throughput = hourly_throughput.fillna(method='ffill')  # Forward fill missing values\n",
    "\n",
    "# Plot the hourly throughput\n",
    "plt.figure(figsize=(12, 6))  \n",
    "hourly_throughput.plot(kind=\"line\", style='-')\n",
    "plt.xlabel(\"Time Window\")\n",
    "plt.ylabel(\"Average Downlink Throughput (kbps)\")\n",
    "plt.title(\"Cell Throughput Over Time (Hourly)\")\n",
    "\n",
    "# Ensure all hours are displayed on the x-axis\n",
    "plt.xticks(rotation=45)  \n",
    "plt.tight_layout()\n",
    "plt.show()"
   ],
   "metadata": {
    "collapsed": false,
    "pycharm": {
     "name": "#%%\n"
    },
    "ExecuteTime": {
     "end_time": "2024-07-09T09:15:16.848506Z",
     "start_time": "2024-07-09T09:15:14.359283Z"
    }
   },
   "id": "5c585ab209b905db"
  },
  {
   "cell_type": "markdown",
   "source": [
    "Signal strength distribution:"
   ],
   "metadata": {
    "collapsed": false,
    "pycharm": {
     "name": "#%% md\n"
    }
   },
   "id": "120e0d08c3416f95"
  },
  {
   "cell_type": "code",
   "execution_count": 8,
   "outputs": [
    {
     "data": {
      "text/plain": "<Figure size 432x288 with 1 Axes>",
      "image/png": "[encoded data removed]"
     },
     "metadata": {},
     "output_type": "display_data"
    }
   ],
   "source": [
    "df[\"Serving RS Info-Serving RSRP (d Bm)\"].plot.hist(bins=20)\n",
    "plt.xlabel(\"RSRP (dBm)\")\n",
    "plt.ylabel(\"Number of Samples\")\n",
    "plt.title(\"Signal Strength Distribution\")\n",
    "plt.show()"
   ],
   "metadata": {
    "collapsed": false,
    "pycharm": {
     "name": "#%%\n"
    },
    "ExecuteTime": {
     "end_time": "2024-07-17T07:40:45.079271Z",
     "start_time": "2024-07-17T07:40:44.803976Z"
    }
   },
   "id": "a828cfbc0ce53db2"
  },
  {
   "cell_type": "markdown",
   "source": [
    "Call quality kpis:"
   ],
   "metadata": {
    "collapsed": false,
    "pycharm": {
     "name": "#%% md\n"
    }
   },
   "id": "c81f2eda37b04c49"
  },
  {
   "cell_type": "code",
   "execution_count": 17,
   "outputs": [
    {
     "ename": "KeyError",
     "evalue": "'POLQA Downlink MOS-POLQA SWB'",
     "output_type": "error",
     "traceback": [
      "\u001B[0;31m---------------------------------------------------------------------------\u001B[0m",
      "\u001B[0;31mKeyError\u001B[0m                                  Traceback (most recent call last)",
      "\u001B[0;32m~/opt/anaconda3/lib/python3.9/site-packages/pandas/core/indexes/base.py\u001B[0m in \u001B[0;36mget_loc\u001B[0;34m(self, key, method, tolerance)\u001B[0m\n\u001B[1;32m   3360\u001B[0m             \u001B[0;32mtry\u001B[0m\u001B[0;34m:\u001B[0m\u001B[0;34m\u001B[0m\u001B[0;34m\u001B[0m\u001B[0m\n\u001B[0;32m-> 3361\u001B[0;31m                 \u001B[0;32mreturn\u001B[0m \u001B[0mself\u001B[0m\u001B[0;34m.\u001B[0m\u001B[0m_engine\u001B[0m\u001B[0;34m.\u001B[0m\u001B[0mget_loc\u001B[0m\u001B[0;34m(\u001B[0m\u001B[0mcasted_key\u001B[0m\u001B[0;34m)\u001B[0m\u001B[0;34m\u001B[0m\u001B[0;34m\u001B[0m\u001B[0m\n\u001B[0m\u001B[1;32m   3362\u001B[0m             \u001B[0;32mexcept\u001B[0m \u001B[0mKeyError\u001B[0m \u001B[0;32mas\u001B[0m \u001B[0merr\u001B[0m\u001B[0;34m:\u001B[0m\u001B[0;34m\u001B[0m\u001B[0;34m\u001B[0m\u001B[0m\n",
      "\u001B[0;32m~/opt/anaconda3/lib/python3.9/site-packages/pandas/_libs/index.pyx\u001B[0m in \u001B[0;36mpandas._libs.index.IndexEngine.get_loc\u001B[0;34m()\u001B[0m\n",
      "\u001B[0;32m~/opt/anaconda3/lib/python3.9/site-packages/pandas/_libs/index.pyx\u001B[0m in \u001B[0;36mpandas._libs.index.IndexEngine.get_loc\u001B[0;34m()\u001B[0m\n",
      "\u001B[0;32mpandas/_libs/hashtable_class_helper.pxi\u001B[0m in \u001B[0;36mpandas._libs.hashtable.PyObjectHashTable.get_item\u001B[0;34m()\u001B[0m\n",
      "\u001B[0;32mpandas/_libs/hashtable_class_helper.pxi\u001B[0m in \u001B[0;36mpandas._libs.hashtable.PyObjectHashTable.get_item\u001B[0;34m()\u001B[0m\n",
      "\u001B[0;31mKeyError\u001B[0m: 'POLQA Downlink MOS-POLQA SWB'",
      "\nThe above exception was the direct cause of the following exception:\n",
      "\u001B[0;31mKeyError\u001B[0m                                  Traceback (most recent call last)",
      "\u001B[0;32m/var/folders/z5/68b3704s6qj2p9gk1hfwfr7r0000gn/T/ipykernel_50279/1157985633.py\u001B[0m in \u001B[0;36m<module>\u001B[0;34m\u001B[0m\n\u001B[0;32m----> 1\u001B[0;31m \u001B[0mdf\u001B[0m\u001B[0;34m[\u001B[0m\u001B[0;34m\"POLQA Downlink MOS-POLQA SWB\"\u001B[0m\u001B[0;34m]\u001B[0m\u001B[0;34m.\u001B[0m\u001B[0mplot\u001B[0m\u001B[0;34m.\u001B[0m\u001B[0mhist\u001B[0m\u001B[0;34m(\u001B[0m\u001B[0mbins\u001B[0m\u001B[0;34m=\u001B[0m\u001B[0;36m5\u001B[0m\u001B[0;34m)\u001B[0m  \u001B[0;31m# Adjust the number of bins as needed\u001B[0m\u001B[0;34m\u001B[0m\u001B[0;34m\u001B[0m\u001B[0m\n\u001B[0m\u001B[1;32m      2\u001B[0m \u001B[0mplt\u001B[0m\u001B[0;34m.\u001B[0m\u001B[0mxlabel\u001B[0m\u001B[0;34m(\u001B[0m\u001B[0;34m\"POLQA Score\"\u001B[0m\u001B[0;34m)\u001B[0m\u001B[0;34m\u001B[0m\u001B[0;34m\u001B[0m\u001B[0m\n\u001B[1;32m      3\u001B[0m \u001B[0mplt\u001B[0m\u001B[0;34m.\u001B[0m\u001B[0mylabel\u001B[0m\u001B[0;34m(\u001B[0m\u001B[0;34m\"Number of Calls\"\u001B[0m\u001B[0;34m)\u001B[0m\u001B[0;34m\u001B[0m\u001B[0;34m\u001B[0m\u001B[0m\n\u001B[1;32m      4\u001B[0m \u001B[0mplt\u001B[0m\u001B[0;34m.\u001B[0m\u001B[0mtitle\u001B[0m\u001B[0;34m(\u001B[0m\u001B[0;34m\"Call Quality Distribution (POLQA)\"\u001B[0m\u001B[0;34m)\u001B[0m\u001B[0;34m\u001B[0m\u001B[0;34m\u001B[0m\u001B[0m\n\u001B[1;32m      5\u001B[0m \u001B[0mplt\u001B[0m\u001B[0;34m.\u001B[0m\u001B[0mshow\u001B[0m\u001B[0;34m(\u001B[0m\u001B[0;34m)\u001B[0m\u001B[0;34m\u001B[0m\u001B[0;34m\u001B[0m\u001B[0m\n",
      "\u001B[0;32m~/opt/anaconda3/lib/python3.9/site-packages/pandas/core/frame.py\u001B[0m in \u001B[0;36m__getitem__\u001B[0;34m(self, key)\u001B[0m\n\u001B[1;32m   3456\u001B[0m             \u001B[0;32mif\u001B[0m \u001B[0mself\u001B[0m\u001B[0;34m.\u001B[0m\u001B[0mcolumns\u001B[0m\u001B[0;34m.\u001B[0m\u001B[0mnlevels\u001B[0m \u001B[0;34m>\u001B[0m \u001B[0;36m1\u001B[0m\u001B[0;34m:\u001B[0m\u001B[0;34m\u001B[0m\u001B[0;34m\u001B[0m\u001B[0m\n\u001B[1;32m   3457\u001B[0m                 \u001B[0;32mreturn\u001B[0m \u001B[0mself\u001B[0m\u001B[0;34m.\u001B[0m\u001B[0m_getitem_multilevel\u001B[0m\u001B[0;34m(\u001B[0m\u001B[0mkey\u001B[0m\u001B[0;34m)\u001B[0m\u001B[0;34m\u001B[0m\u001B[0;34m\u001B[0m\u001B[0m\n\u001B[0;32m-> 3458\u001B[0;31m             \u001B[0mindexer\u001B[0m \u001B[0;34m=\u001B[0m \u001B[0mself\u001B[0m\u001B[0;34m.\u001B[0m\u001B[0mcolumns\u001B[0m\u001B[0;34m.\u001B[0m\u001B[0mget_loc\u001B[0m\u001B[0;34m(\u001B[0m\u001B[0mkey\u001B[0m\u001B[0;34m)\u001B[0m\u001B[0;34m\u001B[0m\u001B[0;34m\u001B[0m\u001B[0m\n\u001B[0m\u001B[1;32m   3459\u001B[0m             \u001B[0;32mif\u001B[0m \u001B[0mis_integer\u001B[0m\u001B[0;34m(\u001B[0m\u001B[0mindexer\u001B[0m\u001B[0;34m)\u001B[0m\u001B[0;34m:\u001B[0m\u001B[0;34m\u001B[0m\u001B[0;34m\u001B[0m\u001B[0m\n\u001B[1;32m   3460\u001B[0m                 \u001B[0mindexer\u001B[0m \u001B[0;34m=\u001B[0m \u001B[0;34m[\u001B[0m\u001B[0mindexer\u001B[0m\u001B[0;34m]\u001B[0m\u001B[0;34m\u001B[0m\u001B[0;34m\u001B[0m\u001B[0m\n",
      "\u001B[0;32m~/opt/anaconda3/lib/python3.9/site-packages/pandas/core/indexes/base.py\u001B[0m in \u001B[0;36mget_loc\u001B[0;34m(self, key, method, tolerance)\u001B[0m\n\u001B[1;32m   3361\u001B[0m                 \u001B[0;32mreturn\u001B[0m \u001B[0mself\u001B[0m\u001B[0;34m.\u001B[0m\u001B[0m_engine\u001B[0m\u001B[0;34m.\u001B[0m\u001B[0mget_loc\u001B[0m\u001B[0;34m(\u001B[0m\u001B[0mcasted_key\u001B[0m\u001B[0;34m)\u001B[0m\u001B[0;34m\u001B[0m\u001B[0;34m\u001B[0m\u001B[0m\n\u001B[1;32m   3362\u001B[0m             \u001B[0;32mexcept\u001B[0m \u001B[0mKeyError\u001B[0m \u001B[0;32mas\u001B[0m \u001B[0merr\u001B[0m\u001B[0;34m:\u001B[0m\u001B[0;34m\u001B[0m\u001B[0;34m\u001B[0m\u001B[0m\n\u001B[0;32m-> 3363\u001B[0;31m                 \u001B[0;32mraise\u001B[0m \u001B[0mKeyError\u001B[0m\u001B[0;34m(\u001B[0m\u001B[0mkey\u001B[0m\u001B[0;34m)\u001B[0m \u001B[0;32mfrom\u001B[0m \u001B[0merr\u001B[0m\u001B[0;34m\u001B[0m\u001B[0;34m\u001B[0m\u001B[0m\n\u001B[0m\u001B[1;32m   3364\u001B[0m \u001B[0;34m\u001B[0m\u001B[0m\n\u001B[1;32m   3365\u001B[0m         \u001B[0;32mif\u001B[0m \u001B[0mis_scalar\u001B[0m\u001B[0;34m(\u001B[0m\u001B[0mkey\u001B[0m\u001B[0;34m)\u001B[0m \u001B[0;32mand\u001B[0m \u001B[0misna\u001B[0m\u001B[0;34m(\u001B[0m\u001B[0mkey\u001B[0m\u001B[0;34m)\u001B[0m \u001B[0;32mand\u001B[0m \u001B[0;32mnot\u001B[0m \u001B[0mself\u001B[0m\u001B[0;34m.\u001B[0m\u001B[0mhasnans\u001B[0m\u001B[0;34m:\u001B[0m\u001B[0;34m\u001B[0m\u001B[0;34m\u001B[0m\u001B[0m\n",
      "\u001B[0;31mKeyError\u001B[0m: 'POLQA Downlink MOS-POLQA SWB'"
     ]
    }
   ],
   "source": [
    "df[\"POLQA Downlink MOS-POLQA SWB\"].plot.hist(bins=5)  # Adjust the number of bins as needed\n",
    "plt.xlabel(\"RSRQ Score\")\n",
    "plt.ylabel(\"Number of Calls\")\n",
    "plt.title(\"Call Quality Distribution (POLQA)\")\n",
    "plt.show()\n"
   ],
   "metadata": {
    "collapsed": false,
    "pycharm": {
     "name": "#%%\n"
    },
    "ExecuteTime": {
     "end_time": "2024-07-09T09:15:24.867782Z",
     "start_time": "2024-07-09T09:15:24.739974Z"
    }
   },
   "id": "c780ce5a8a909fdb"
  },
  {
   "cell_type": "markdown",
   "source": [
    "Network Utilization KPIs:"
   ],
   "metadata": {
    "collapsed": false,
    "pycharm": {
     "name": "#%% md\n"
    }
   },
   "id": "87ee0a8da746d7e0"
  },
  {
   "cell_type": "code",
   "execution_count": 10,
   "outputs": [
    {
     "data": {
      "text/plain": "<Figure size 432x288 with 1 Axes>",
      "image/png": "[encoded data removed]"
     },
     "metadata": {
      "needs_background": "light"
     },
     "output_type": "display_data"
    }
   ],
   "source": [
    "ndf = df[df[\"POLQA Downlink MOS-POLQA SWB\"] < 4][\"POLQA Downlink MOS-POLQA SWB\"].plot.hist()\n",
    "plt.xlabel(\"POLQA Score\")\n",
    "plt.ylabel(\"Number of Calls\")\n",
    "plt.title(\"Call Quality Distribution (POLQA)\")\n",
    "plt.show()\n"
   ],
   "metadata": {
    "collapsed": false,
    "pycharm": {
     "name": "#%%\n"
    },
    "ExecuteTime": {
     "end_time": "2024-07-03T13:11:36.518948Z",
     "start_time": "2024-07-03T13:11:36.377603Z"
    }
   },
   "id": "7b5d63460116ee7c"
  }
 ],
 "metadata": {
  "kernelspec": {
   "display_name": "Python 3",
   "language": "python",
   "name": "python3"
  },
  "language_info": {
   "codemirror_mode": {
    "name": "ipython",
    "version": 2
   },
   "file_extension": ".py",
   "mimetype": "text/x-python",
   "name": "python",
   "nbconvert_exporter": "python",
   "pygments_lexer": "ipython2",
   "version": "2.7.6"
  }
 },
 "nbformat": 4,
 "nbformat_minor": 5
}
