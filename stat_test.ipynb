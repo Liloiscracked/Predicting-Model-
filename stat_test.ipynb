{
 "cells": [
  {
   "cell_type": "markdown",
   "source": [
    "<h1> The following code is for doing a statistical test for two datasets to obtain a p value<h1>"
   ],
   "metadata": {
    "collapsed": false
   },
   "id": "c0550ff492265123"
  },
  {
   "cell_type": "code",
   "execution_count": 1,
   "outputs": [
    {
     "name": "stdout",
     "output_type": "stream",
     "text": [
      "Paired t-test: t-statistic = -inf, p-value = 0.0\n",
      "Wilcoxon signed-rank test: statistic = 0.0, p-value = 0.0625\n"
     ]
    }
   ],
   "source": [
    "import numpy as np\n",
    "from scipy.stats import ttest_rel, wilcoxon\n",
    "\n",
    "# Example data\n",
    "before_treatment = np.array([1, 2, 3, 4, 5])\n",
    "after_treatment = np.array([2, 3, 4, 5, 6])\n",
    "\n",
    "# Paired t-test \n",
    "t_stat, p_value_ttest = ttest_rel(before_treatment, after_treatment)\n",
    "print(f\"Paired t-test: t-statistic = {t_stat}, p-value = {p_value_ttest}\")\n",
    "\n",
    "# Wilcoxon signed-rank test (Non-Normal)\n",
    "stat, p_value_wilcoxon = wilcoxon(before_treatment, after_treatment)\n",
    "print(f\"Wilcoxon signed-rank test: statistic = {stat}, p-value = {p_value_wilcoxon}\")\n",
    "\n",
    "# Mean and confidence interval\n",
    "differences = after_treatment - before_treatment\n",
    "mean_diff = np.mean(differences)\n",
    "std_diff = np.std(differences, ddof=1)\n",
    "confidence_interval = stats.t.interval(0.95, len(differences)-1, loc=mean_diff, scale=std_diff/np.sqrt(len(differences)))\n",
    "\n",
    "print(f\"Mean difference = {mean_diff}, 95% confidence interval = {confidence_interval}\")\n"
   ],
   "metadata": {
    "collapsed": false,
    "ExecuteTime": {
     "end_time": "2024-07-24T07:54:44.092842Z",
     "start_time": "2024-07-24T07:54:32.521907Z"
    }
   },
   "id": "b5c9964cdbae99e8"
  }
 ],
 "metadata": {
  "kernelspec": {
   "display_name": "Python 3",
   "language": "python",
   "name": "python3"
  },
  "language_info": {
   "codemirror_mode": {
    "name": "ipython",
    "version": 2
   },
   "file_extension": ".py",
   "mimetype": "text/x-python",
   "name": "python",
   "nbconvert_exporter": "python",
   "pygments_lexer": "ipython2",
   "version": "2.7.6"
  }
 },
 "nbformat": 4,
 "nbformat_minor": 5
}
